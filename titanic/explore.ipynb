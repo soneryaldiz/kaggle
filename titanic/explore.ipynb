{
 "cells": [
  {
   "cell_type": "code",
   "execution_count": null,
   "metadata": {},
   "outputs": [],
   "source": [
    "import numpy as np\n",
    "import pandas as pd\n",
    "import seaborn as sns\n",
    "import matplotlib as mpl\n",
    "import matplotlib.pyplot as plt"
   ]
  },
  {
   "cell_type": "code",
   "execution_count": null,
   "metadata": {},
   "outputs": [],
   "source": [
    "# Load data \n",
    "test_data = pd.read_csv(\"test.csv\")\n",
    "train_data = pd.read_csv(\"train.csv\")\n",
    "train_data_size = len(train_data)\n",
    "test_data_size = len(test_data)\n",
    "print(f'Number of samples: Training = {train_data_size} Test = {test_data_size}')\n",
    "print('Columns:', [col for col in train_data])\n",
    "train_data.head()\n",
    "# sibsp: # of siblings / spouses aboard the Titanic\t\n",
    "# parch: # of parents / children aboard the Titanic"
   ]
  },
  {
   "cell_type": "code",
   "execution_count": null,
   "metadata": {},
   "outputs": [],
   "source": [
    "data = train_data\n",
    "data.info()"
   ]
  },
  {
   "cell_type": "code",
   "execution_count": null,
   "metadata": {},
   "outputs": [],
   "source": [
    "# Missing values per column\n",
    "for col in train_data:\n",
    "    vc = train_data[col].notna().value_counts()\n",
    "    num_na = train_data_size - vc.loc[True]\n",
    "    if num_na > 0:\n",
    "        print(f'{num_na} missing in {col}')\n",
    "\n",
    "# Too many missing in Cabin. Some people have multiple cabins (family or friends?)\n",
    "# TODO: Age: Estimate using name prefix / Done\n",
    "# TODO: Embark: Two values missing \n",
    "# TODO: Name: Extract last name and title\n",
    "# TODO: Is Father? Is Mother?\n",
    "# TODO: Clean up title further"
   ]
  },
  {
   "cell_type": "code",
   "execution_count": null,
   "metadata": {},
   "outputs": [],
   "source": [
    "data = train_data\n",
    "\n",
    "data['FamilyTotal'] = data['SibSp'] + data['Parch']\n",
    "\n",
    "data['LastName'] = data['Name'].astype('str', copy=True)\n",
    "data['LastName'] = data['LastName'].map(lambda x: str(x).split(',')[0].lower().strip())\n",
    "print(f\"LastName: {data['LastName'].nunique()} unique out of {len(data)}\")\n",
    "\n",
    "data['Title'] = data['Name'].astype('str', copy=True)\n",
    "data['Title'] = data['Title'].map(lambda x: str(x).split(',')[1].lstrip().strip().split('.')[0].lower())\n",
    "data['Title'] = data['Title'].map(lambda x: 'miss' if str(x) == 'mlle' else x)\n",
    "data['Title'] = data['Title'].map(lambda x: 'mrs' if str(x) == 'mme' else x)\n",
    "print(f\"Title: {data['Title'].nunique()} unique out of {len(data)}\")\n",
    "data['Title'].value_counts()"
   ]
  },
  {
   "cell_type": "code",
   "execution_count": null,
   "metadata": {},
   "outputs": [],
   "source": [
    "d = data[['Age','Title']]\n",
    "print(len(d))\n",
    "d = d.dropna()\n",
    "print(len(d))\n",
    "mean_age_by_title = d.groupby('Title').mean()\n",
    "mean_age_by_title.head()"
   ]
  },
  {
   "cell_type": "code",
   "execution_count": null,
   "metadata": {},
   "outputs": [],
   "source": [
    "def average_age(age, title):\n",
    "    if pd.isna(age):\n",
    "        return mean_age_by_title.at[title,'Age']\n",
    "    else:\n",
    "        return age\n",
    "\n",
    "data['Age_filled'] = data.apply(lambda x: average_age(age=x['Age'], title=x['Title']), axis=1)\n",
    "\n",
    "data['Age_filled'] = data['Age_filled'].map(lambda x: np.ceil(x))\n"
   ]
  },
  {
   "cell_type": "code",
   "execution_count": null,
   "metadata": {},
   "outputs": [],
   "source": [
    "# vc = train_data.loc[train_data.Cabin.notna(), 'Survived'].value_counts()\n",
    "# test_data['Embarked'].notna().value_counts()\n",
    "# data['Noble'] = 0\n",
    "# idx = data['Title'] == 'jonkheer'\n",
    "# data['Noble'].loc[idx] = True\n",
    "# data['Title'].loc[idx] = 'mr'\n",
    "# idx = data['Title'] == 'jonkvrouw'\n",
    "# data['Noble'].loc[idx] = True\n",
    "# check missing values - age has missing\n",
    "\n",
    "# check null/nan values\n",
    "# is it possible to group families?\n",
    "# what does master, miss, mr, mrs mean?\n",
    "# do we need to worry whether data is consistent or reliable? For example, does Fare correlate with Pclass?\n",
    "\n",
    "# sns.pairplot(data=data[['FamilyTotal','Age_filled','Survived']], hue=\"Survived\")\n",
    "\n",
    "# sns.set_theme(style=\"ticks\")\n",
    "# f, ax = plt.subplots(figsize=(7, 5))\n",
    "# sns.despine(f)\n",
    "# sns.histplot(\n",
    "#     train_data['Fare'])\n",
    "# ax.xaxis.set_major_formatter(mpl.ticker.ScalarFormatter())\n",
    "# ax.set_xticks([500, 1000, 2000, 5000, 10000])"
   ]
  },
  {
   "cell_type": "code",
   "execution_count": null,
   "metadata": {},
   "outputs": [],
   "source": [
    "# Baseline classifier\n",
    "from sklearn.ensemble import RandomForestClassifier\n",
    "from sklearn.model_selection import StratifiedKFold\n",
    "\n",
    "y = train_data[\"Survived\"]\n",
    "features = [\"Pclass\", \"Sex\", \"SibSp\", \"Parch\"]\n",
    "X = pd.get_dummies(train_data[features])\n",
    "\n",
    "skf = StratifiedKFold(n_splits=10)\n",
    "acc_train = []\n",
    "acc_test  = []\n",
    "for train_index, test_index in skf.split(X, y):\n",
    "    X_train , X_test = X.iloc[train_index,:],X.iloc[test_index,:]\n",
    "    y_train , y_test = y[train_index] , y[test_index]\n",
    "    model = RandomForestClassifier(n_estimators=100, max_depth=3, random_state=1)\n",
    "    model.fit(X_train, y_train)\n",
    "    # print('train -  {}   |   test -  {}'.format(np.bincount(y_train), np.bincount(y_test)))\n",
    "    print(f' Train: {model.score(X_train, y_train):.2f} Test: {model.score(X_test, y_test):.2f}')\n",
    "    acc_train.append(model.score(X_train, y_train))\n",
    "    acc_test.append(model.score(X_test, y_test))\n",
    "    # break\n",
    "print(f'Avg train accuracy: {np.mean(acc_train):.2f} {np.std(acc_train):.3f}')\n",
    "print(f'Avg test  accuracy: {np.mean(acc_test):.2f} {np.std(acc_train):.3f}')\n",
    "# model.fit(X, y)\n",
    "# print(f'Baseline Accuracy: {model.score(X, y):.2f}')"
   ]
  },
  {
   "cell_type": "code",
   "execution_count": null,
   "metadata": {},
   "outputs": [],
   "source": [
    "# Current classifier\n",
    "from sklearn.ensemble import RandomForestClassifier\n",
    "from sklearn.model_selection import StratifiedKFold\n",
    "\n",
    "y = data[\"Survived\"]\n",
    "features = [\"Pclass\", \"Sex\", \"SibSp\", \"Parch\", \"Title\", \"FamilyTotal\", \"Age_filled\", \"Embarked\"]\n",
    "\n",
    "# pd.concat([df1,df2], axis=1)\n",
    "# TODO: This is super broken! Encode variables properly\n",
    "# X = pd.get_dummies(data[features])\n",
    "X = data[features]\n",
    "\n",
    "skf = StratifiedKFold(n_splits=10)\n",
    "acc_train = []\n",
    "acc_test  = []\n",
    "for train_index, test_index in skf.split(X, y):\n",
    "    X_train , X_test = X.iloc[train_index,:],X.iloc[test_index,:]\n",
    "    y_train , y_test = y[train_index] , y[test_index]\n",
    "    model = RandomForestClassifier(n_estimators=100, max_depth=3, random_state=1)\n",
    "    model.fit(X_train, y_train)\n",
    "    # print('train -  {}   |   test -  {}'.format(np.bincount(y_train), np.bincount(y_test)))\n",
    "    print(f' Train: {model.score(X_train, y_train):.2f} Test: {model.score(X_test, y_test):.2f}')\n",
    "    acc_train.append(model.score(X_train, y_train))\n",
    "    acc_test.append(model.score(X_test, y_test))\n",
    "    # break\n",
    "print(f'Avg train accuracy: {np.mean(acc_train):.2f} {np.std(acc_train):.3f}')\n",
    "print(f'Avg test  accuracy: {np.mean(acc_test):.2f} {np.std(acc_train):.3f}')\n"
   ]
  },
  {
   "cell_type": "code",
   "execution_count": 86,
   "metadata": {},
   "outputs": [
    {
     "data": {
      "text/html": [
       "<div>\n",
       "<style scoped>\n",
       "    .dataframe tbody tr th:only-of-type {\n",
       "        vertical-align: middle;\n",
       "    }\n",
       "\n",
       "    .dataframe tbody tr th {\n",
       "        vertical-align: top;\n",
       "    }\n",
       "\n",
       "    .dataframe thead th {\n",
       "        text-align: right;\n",
       "    }\n",
       "</style>\n",
       "<table border=\"1\" class=\"dataframe\">\n",
       "  <thead>\n",
       "    <tr style=\"text-align: right;\">\n",
       "      <th></th>\n",
       "      <th>Embarked_C</th>\n",
       "      <th>Embarked_Q</th>\n",
       "      <th>Embarked_S</th>\n",
       "    </tr>\n",
       "  </thead>\n",
       "  <tbody>\n",
       "    <tr>\n",
       "      <th>0</th>\n",
       "      <td>0</td>\n",
       "      <td>0</td>\n",
       "      <td>1</td>\n",
       "    </tr>\n",
       "    <tr>\n",
       "      <th>1</th>\n",
       "      <td>1</td>\n",
       "      <td>0</td>\n",
       "      <td>0</td>\n",
       "    </tr>\n",
       "    <tr>\n",
       "      <th>2</th>\n",
       "      <td>0</td>\n",
       "      <td>0</td>\n",
       "      <td>1</td>\n",
       "    </tr>\n",
       "    <tr>\n",
       "      <th>3</th>\n",
       "      <td>0</td>\n",
       "      <td>0</td>\n",
       "      <td>1</td>\n",
       "    </tr>\n",
       "    <tr>\n",
       "      <th>4</th>\n",
       "      <td>0</td>\n",
       "      <td>0</td>\n",
       "      <td>1</td>\n",
       "    </tr>\n",
       "  </tbody>\n",
       "</table>\n",
       "</div>"
      ],
      "text/plain": [
       "   Embarked_C  Embarked_Q  Embarked_S\n",
       "0           0           0           1\n",
       "1           1           0           0\n",
       "2           0           0           1\n",
       "3           0           0           1\n",
       "4           0           0           1"
      ]
     },
     "execution_count": 86,
     "metadata": {},
     "output_type": "execute_result"
    }
   ],
   "source": [
    "pd.get_dummies(data[['Embarked']]).head()"
   ]
  },
  {
   "cell_type": "code",
   "execution_count": null,
   "metadata": {},
   "outputs": [],
   "source": [
    "output = pd.DataFrame({'PassengerId': test_data.PassengerId, 'Survived': predictions})\n",
    "output.to_csv('submission.csv', index=False)\n",
    "print(\"Your submission was successfully saved!\")\n"
   ]
  }
 ],
 "metadata": {
  "interpreter": {
   "hash": "38ea058da987f4640b3363e8dce7a4df0ac8f738fd3d929d6a9154274aa5a31e"
  },
  "kernelspec": {
   "display_name": "Python 3.8.10 64-bit ('myenv': venv)",
   "language": "python",
   "name": "python3"
  },
  "language_info": {
   "codemirror_mode": {
    "name": "ipython",
    "version": 3
   },
   "file_extension": ".py",
   "mimetype": "text/x-python",
   "name": "python",
   "nbconvert_exporter": "python",
   "pygments_lexer": "ipython3",
   "version": "3.8.10"
  },
  "orig_nbformat": 4
 },
 "nbformat": 4,
 "nbformat_minor": 2
}
